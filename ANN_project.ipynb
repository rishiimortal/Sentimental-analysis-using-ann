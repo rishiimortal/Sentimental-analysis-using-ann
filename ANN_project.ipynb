{
  "nbformat": 4,
  "nbformat_minor": 0,
  "metadata": {
    "colab": {
      "provenance": [],
      "authorship_tag": "ABX9TyOjXzihrqyBklK20C5WVumd",
      "include_colab_link": true
    },
    "kernelspec": {
      "name": "python3",
      "display_name": "Python 3"
    },
    "language_info": {
      "name": "python"
    }
  },
  "cells": [
    {
      "cell_type": "markdown",
      "metadata": {
        "id": "view-in-github",
        "colab_type": "text"
      },
      "source": [
        "<a href=\"https://colab.research.google.com/github/rishiimortal/Sentimental-analysis-using-ann/blob/main/ANN_project.ipynb\" target=\"_parent\"><img src=\"https://colab.research.google.com/assets/colab-badge.svg\" alt=\"Open In Colab\"/></a>"
      ]
    },
    {
      "cell_type": "code",
      "source": [
        "import numpy as np\n",
        "from tensorflow.keras.preprocessing.sequence import pad_sequences\n",
        "from tensorflow.keras.datasets import imdb\n",
        "from tensorflow.keras.models import Sequential\n",
        "from tensorflow.keras.layers import Embedding, Flatten, Dense\n"
      ],
      "metadata": {
        "id": "Chq7Mfo6xDju"
      },
      "execution_count": 27,
      "outputs": []
    },
    {
      "cell_type": "markdown",
      "source": [
        "Importing dataset"
      ],
      "metadata": {
        "id": "_xFwDLYzxM8V"
      }
    },
    {
      "cell_type": "code",
      "source": [
        "from tensorflow.keras.datasets import imdb\n",
        "\n",
        "# Load IMDb dataset\n",
        "vocab_size = 10000  # Limit the vocabulary size to 10,000 most frequent words\n",
        "(X_train, y_train), (X_test, y_test) = imdb.load_data(num_words=vocab_size)\n",
        "\n",
        "# Display dataset shapes\n",
        "print(\"Training set shape:\", X_train.shape)\n",
        "print(\"Training labels shape:\", y_train.shape)\n",
        "print(\"Test set shape:\", X_test.shape)\n",
        "print(\"Test labels shape:\", y_test.shape)\n"
      ],
      "metadata": {
        "colab": {
          "base_uri": "https://localhost:8080/"
        },
        "id": "WiAm3jeTxMsk",
        "outputId": "bdbce4c7-aaec-4f97-ced1-267152a8f9b7"
      },
      "execution_count": 28,
      "outputs": [
        {
          "output_type": "stream",
          "name": "stdout",
          "text": [
            "Training set shape: (25000,)\n",
            "Training labels shape: (25000,)\n",
            "Test set shape: (25000,)\n",
            "Test labels shape: (25000,)\n"
          ]
        }
      ]
    },
    {
      "cell_type": "code",
      "source": [],
      "metadata": {
        "id": "A6E1NVprzpDX"
      },
      "execution_count": null,
      "outputs": []
    },
    {
      "cell_type": "code",
      "source": [
        "X = np.concatenate((X_train, X_test), axis=0)\n",
        "y = np.concatenate((y_train, y_test), axis=0)"
      ],
      "metadata": {
        "id": "xx6AhnZaxcmU"
      },
      "execution_count": 29,
      "outputs": []
    },
    {
      "cell_type": "code",
      "source": [
        "print(\"Dataset size:\", len(X))\n",
        "print(\"Number of unique words:\", len(np.unique(np.hstack(X))))"
      ],
      "metadata": {
        "colab": {
          "base_uri": "https://localhost:8080/"
        },
        "id": "CEFKJsnixg1H",
        "outputId": "a6eb39b2-3c6b-4026-dab9-bf7571d48433"
      },
      "execution_count": 30,
      "outputs": [
        {
          "output_type": "stream",
          "name": "stdout",
          "text": [
            "Dataset size: 50000\n",
            "Number of unique words: 9998\n"
          ]
        }
      ]
    },
    {
      "cell_type": "code",
      "source": [
        "review_lengths = [len(review) for review in X]\n",
        "print(\"Minimum review length:\", min(review_lengths))\n",
        "print(\"Maximum review length:\", max(review_lengths))\n",
        "print(\"Average review length:\", np.mean(review_lengths))"
      ],
      "metadata": {
        "colab": {
          "base_uri": "https://localhost:8080/"
        },
        "id": "bJTF-vt-xkRM",
        "outputId": "31121adc-97e7-49d3-bf75-6aa05f2b7f2f"
      },
      "execution_count": 31,
      "outputs": [
        {
          "output_type": "stream",
          "name": "stdout",
          "text": [
            "Minimum review length: 7\n",
            "Maximum review length: 2494\n",
            "Average review length: 234.75892\n"
          ]
        }
      ]
    },
    {
      "cell_type": "code",
      "source": [
        "unique, counts = np.unique(y, return_counts=True)\n",
        "sentiment_counts = dict(zip(unique, counts))\n",
        "print(\"Sentiment distribution:\", sentiment_counts)"
      ],
      "metadata": {
        "colab": {
          "base_uri": "https://localhost:8080/"
        },
        "id": "YkcCcnYBxnq_",
        "outputId": "96837a9e-496c-4543-e9f5-e2d765ee0b44"
      },
      "execution_count": 32,
      "outputs": [
        {
          "output_type": "stream",
          "name": "stdout",
          "text": [
            "Sentiment distribution: {0: 25000, 1: 25000}\n"
          ]
        }
      ]
    },
    {
      "cell_type": "code",
      "source": [
        "plt.hist(review_lengths, bins=50)\n",
        "plt.title('Distribution of Review Lengths')\n",
        "plt.xlabel('Review Length')\n",
        "plt.ylabel('Frequency')\n",
        "plt.show()"
      ],
      "metadata": {
        "colab": {
          "base_uri": "https://localhost:8080/",
          "height": 472
        },
        "id": "a0sk-WSJxpnS",
        "outputId": "a67e78e1-95bc-431b-aa74-cbe5bc79bf09"
      },
      "execution_count": 33,
      "outputs": [
        {
          "output_type": "display_data",
          "data": {
            "text/plain": [
              "<Figure size 640x480 with 1 Axes>"
            ],
            "image/png": "[encoded data removed]"
          },
          "metadata": {}
        }
      ]
    },
    {
      "cell_type": "markdown",
      "source": [
        "Data cleaning\n",
        "\n",
        "\n"
      ],
      "metadata": {
        "id": "80A5uU1MyDBd"
      }
    },
    {
      "cell_type": "code",
      "source": [
        "import nltk\n",
        "nltk.download('punkt')\n"
      ],
      "metadata": {
        "colab": {
          "base_uri": "https://localhost:8080/"
        },
        "id": "5P_CeJpaybU4",
        "outputId": "167a2ef6-23c0-4e02-f53e-59e102eec6f4"
      },
      "execution_count": 36,
      "outputs": [
        {
          "output_type": "stream",
          "name": "stderr",
          "text": [
            "[nltk_data] Downloading package punkt to /root/nltk_data...\n",
            "[nltk_data]   Unzipping tokenizers/punkt.zip.\n"
          ]
        },
        {
          "output_type": "execute_result",
          "data": {
            "text/plain": [
              "True"
            ]
          },
          "metadata": {},
          "execution_count": 36
        }
      ]
    },
    {
      "cell_type": "code",
      "source": [
        "\n",
        "def clean_text(text):\n",
        "    # Remove URLs\n",
        "    text = re.sub(r'http\\S+', '', text)\n",
        "    # Tokenize text\n",
        "    tokens = word_tokenize(text)\n",
        "    # Remove emails\n",
        "    tokens = [word for word in tokens if '@' not in word]\n",
        "    # Remove new line characters\n",
        "    tokens = [word.replace('\\n', '') for word in tokens]\n",
        "    # Remove distracting single quotes\n",
        "    tokens = [word.replace(\"'\", \"\") for word in tokens]\n",
        "    # Remove punctuation signs\n",
        "    tokens = [word for word in tokens if word.isalnum()]\n",
        "    # Lowercase all text\n",
        "    tokens = [word.lower() for word in tokens]\n",
        "    # Detokenize text\n",
        "    cleaned_text = TreebankWordDetokenizer().detokenize(tokens)\n",
        "    return cleaned_text\n",
        "\n",
        "# Clean the reviews\n",
        "def clean_reviews(reviews):\n",
        "    cleaned_reviews = []\n",
        "    for review in reviews:\n",
        "        cleaned_review = clean_text(review)\n",
        "        cleaned_reviews.append(cleaned_review)\n",
        "    return cleaned_reviews\n",
        "\n",
        "# Example list of IMDb reviews\n",
        "reviews = [\n",
        "    \"The movie was great! https://imdb.com #awesome\",\n",
        "    \"I received an email at abc@example.com\",\n",
        "    \"This is a\\nnew line character.\",\n",
        "    \"That's awesome!\",\n",
        "    \"What's up? #Excited\",\n",
        "]\n",
        "\n",
        "# Clean the reviews\n",
        "cleaned_reviews = clean_reviews(reviews)\n",
        "\n",
        "# Convert list of texts to Numpy array\n",
        "cleaned_reviews_array = np.array(cleaned_reviews)\n",
        "\n",
        "# Display cleaned reviews\n",
        "print(\"Original Reviews:\")\n",
        "print(reviews)\n",
        "print(\"\\nCleaned Reviews:\")\n",
        "print(cleaned_reviews)\n",
        "print(\"\\nCleaned Reviews Array:\")\n",
        "print(cleaned_reviews_array)\n"
      ],
      "metadata": {
        "colab": {
          "base_uri": "https://localhost:8080/"
        },
        "id": "HvFwgyBryJ-a",
        "outputId": "4a9796fa-d78f-4fdd-d0cb-209f4e501977"
      },
      "execution_count": 37,
      "outputs": [
        {
          "output_type": "stream",
          "name": "stdout",
          "text": [
            "Original Reviews:\n",
            "['The movie was great! https://imdb.com #awesome', 'I received an email at abc@example.com', 'This is a\\nnew line character.', \"That's awesome!\", \"What's up? #Excited\"]\n",
            "\n",
            "Cleaned Reviews:\n",
            "['the movie was great awesome', 'i received an email at abc', 'this is a new line character', 'that s awesome', 'what s up excited']\n",
            "\n",
            "Cleaned Reviews Array:\n",
            "['the movie was great awesome' 'i received an email at abc'\n",
            " 'this is a new line character' 'that s awesome' 'what s up excited']\n"
          ]
        }
      ]
    },
    {
      "cell_type": "code",
      "source": [
        "import numpy as np\n",
        "from tensorflow.keras.utils import to_categorical\n",
        "from tensorflow.keras.datasets import imdb\n",
        "\n",
        "# Load IMDb dataset\n",
        "vocab_size = 10000  # Limit the vocabulary size to 10,000 most frequent words\n",
        "(X_train, y_train), (X_test, y_test) = imdb.load_data(num_words=vocab_size)\n",
        "\n",
        "# Convert labels to numerical values\n",
        "y_train_encoded = np.array([2 if label == 1 else 0 for label in y_train])\n",
        "y_test_encoded = np.array([2 if label == 1 else 0 for label in y_test])\n",
        "\n",
        "# Perform one-hot encoding\n",
        "num_classes = 3  # Number of classes: Negative, Neutral, Positive\n",
        "y_train_one_hot = to_categorical(y_train_encoded, num_classes=num_classes)\n",
        "y_test_one_hot = to_categorical(y_test_encoded, num_classes=num_classes)\n",
        "\n",
        "# Display shapes of encoded labels\n",
        "print(\"Shape of y_train_one_hot:\", y_train_one_hot.shape)\n",
        "print(\"Shape of y_test_one_hot:\", y_test_one_hot.shape)\n",
        "\n",
        "# Display encoded labels for the first 5 examples\n",
        "print(\"Encoded Labels for the First 5 Examples (Training Set):\")\n",
        "print(y_train_one_hot[:5])\n"
      ],
      "metadata": {
        "colab": {
          "base_uri": "https://localhost:8080/"
        },
        "id": "LV3s1T2oy8Wl",
        "outputId": "d9566298-edae-4d6d-97fd-4278410474a9"
      },
      "execution_count": 39,
      "outputs": [
        {
          "output_type": "stream",
          "name": "stdout",
          "text": [
            "Shape of y_train_one_hot: (25000, 3)\n",
            "Shape of y_test_one_hot: (25000, 3)\n",
            "Encoded Labels for the First 5 Examples (Training Set):\n",
            "[[0. 0. 1.]\n",
            " [1. 0. 0.]\n",
            " [1. 0. 0.]\n",
            " [0. 0. 1.]\n",
            " [1. 0. 0.]]\n"
          ]
        }
      ]
    },
    {
      "cell_type": "code",
      "source": [
        "from tensorflow.keras.models import Sequential\n",
        "from tensorflow.keras.layers import Embedding, LSTM, Dense\n",
        "\n",
        "# Define model parameters\n",
        "embedding_dim = 128\n",
        "lstm_units = 64\n",
        "\n",
        "# Build the model\n",
        "model_lstm = Sequential()\n",
        "model_lstm.add(Embedding(input_dim=vocab_size, output_dim=embedding_dim, input_length=max_length))\n",
        "model_lstm.add(LSTM(units=lstm_units))\n",
        "model_lstm.add(Dense(units=1, activation='sigmoid'))\n",
        "\n",
        "# Compile the model\n",
        "model_lstm.compile(optimizer='adam', loss='binary_crossentropy', metrics=['accuracy'])\n",
        "\n",
        "# Display model summary\n",
        "print(model_lstm.summary())\n"
      ],
      "metadata": {
        "colab": {
          "base_uri": "https://localhost:8080/"
        },
        "id": "NVKrGBMF1RMC",
        "outputId": "b762837e-0faf-4f21-f450-1d30f5d413e1"
      },
      "execution_count": 44,
      "outputs": [
        {
          "output_type": "stream",
          "name": "stdout",
          "text": [
            "Model: \"sequential_2\"\n",
            "_________________________________________________________________\n",
            " Layer (type)                Output Shape              Param #   \n",
            "=================================================================\n",
            " embedding_2 (Embedding)     (None, 200, 128)          1280000   \n",
            "                                                                 \n",
            " lstm_1 (LSTM)               (None, 64)                49408     \n",
            "                                                                 \n",
            " dense_2 (Dense)             (None, 1)                 65        \n",
            "                                                                 \n",
            "=================================================================\n",
            "Total params: 1329473 (5.07 MB)\n",
            "Trainable params: 1329473 (5.07 MB)\n",
            "Non-trainable params: 0 (0.00 Byte)\n",
            "_________________________________________________________________\n",
            "None\n"
          ]
        }
      ]
    },
    {
      "cell_type": "code",
      "source": [
        "from tensorflow.keras.models import Sequential\n",
        "from tensorflow.keras.layers import Embedding, Bidirectional, LSTM, Dense\n",
        "\n",
        "# Define model parameters\n",
        "embedding_dim = 128\n",
        "lstm_units = 64\n",
        "\n",
        "# Build the model\n",
        "model_bidirectional_lstm = Sequential()\n",
        "model_bidirectional_lstm.add(Embedding(input_dim=vocab_size, output_dim=embedding_dim, input_length=max_length))\n",
        "model_bidirectional_lstm.add(Bidirectional(LSTM(units=lstm_units)))\n",
        "model_bidirectional_lstm.add(Dense(units=1, activation='sigmoid'))\n",
        "\n",
        "# Compile the model\n",
        "model_bidirectional_lstm.compile(optimizer='adam', loss='binary_crossentropy', metrics=['accuracy'])\n",
        "\n",
        "# Display model summary\n",
        "print(model_bidirectional_lstm.summary())\n"
      ],
      "metadata": {
        "colab": {
          "base_uri": "https://localhost:8080/"
        },
        "id": "f4ZRoJhw2YuN",
        "outputId": "08b92910-a659-4f02-a42b-67770d7d067b"
      },
      "execution_count": 49,
      "outputs": [
        {
          "output_type": "stream",
          "name": "stdout",
          "text": [
            "Model: \"sequential_3\"\n",
            "_________________________________________________________________\n",
            " Layer (type)                Output Shape              Param #   \n",
            "=================================================================\n",
            " embedding_3 (Embedding)     (None, 200, 128)          1280000   \n",
            "                                                                 \n",
            " bidirectional (Bidirection  (None, 128)               98816     \n",
            " al)                                                             \n",
            "                                                                 \n",
            " dense_3 (Dense)             (None, 1)                 129       \n",
            "                                                                 \n",
            "=================================================================\n",
            "Total params: 1378945 (5.26 MB)\n",
            "Trainable params: 1378945 (5.26 MB)\n",
            "Non-trainable params: 0 (0.00 Byte)\n",
            "_________________________________________________________________\n",
            "None\n"
          ]
        }
      ]
    },
    {
      "cell_type": "code",
      "source": [
        "from tensorflow.keras.models import Sequential\n",
        "from tensorflow.keras.layers import Embedding, Conv1D, GlobalMaxPooling1D, Dense\n",
        "\n",
        "# Define model parameters\n",
        "embedding_dim = 128\n",
        "num_filters = 64\n",
        "kernel_size = 5\n",
        "\n",
        "# Build the model\n",
        "model_conv1d = Sequential()\n",
        "model_conv1d.add(Embedding(input_dim=vocab_size, output_dim=embedding_dim, input_length=max_length))\n",
        "model_conv1d.add(Conv1D(filters=num_filters, kernel_size=kernel_size, activation='relu'))\n",
        "model_conv1d.add(GlobalMaxPooling1D())\n",
        "model_conv1d.add(Dense(units=1, activation='sigmoid'))\n",
        "\n",
        "# Compile the model\n",
        "model_conv1d.compile(optimizer='adam', loss='binary_crossentropy', metrics=['accuracy'])\n",
        "\n",
        "# Display model summary\n",
        "print(model_conv1d.summary())\n"
      ],
      "metadata": {
        "colab": {
          "base_uri": "https://localhost:8080/"
        },
        "id": "F8764SpP2gtE",
        "outputId": "962a6a6c-16b3-4093-85c1-0e75fd53d1b4"
      },
      "execution_count": 50,
      "outputs": [
        {
          "output_type": "stream",
          "name": "stdout",
          "text": [
            "Model: \"sequential_4\"\n",
            "_________________________________________________________________\n",
            " Layer (type)                Output Shape              Param #   \n",
            "=================================================================\n",
            " embedding_4 (Embedding)     (None, 200, 128)          1280000   \n",
            "                                                                 \n",
            " conv1d (Conv1D)             (None, 196, 64)           41024     \n",
            "                                                                 \n",
            " global_max_pooling1d (Glob  (None, 64)                0         \n",
            " alMaxPooling1D)                                                 \n",
            "                                                                 \n",
            " dense_4 (Dense)             (None, 1)                 65        \n",
            "                                                                 \n",
            "=================================================================\n",
            "Total params: 1321089 (5.04 MB)\n",
            "Trainable params: 1321089 (5.04 MB)\n",
            "Non-trainable params: 0 (0.00 Byte)\n",
            "_________________________________________________________________\n",
            "None\n"
          ]
        }
      ]
    },
    {
      "cell_type": "code",
      "source": [],
      "metadata": {
        "id": "LqVS_4e12vO3"
      },
      "execution_count": null,
      "outputs": []
    },
    {
      "cell_type": "code",
      "source": [
        "import numpy as np\n",
        "from tensorflow.keras.preprocessing.sequence import pad_sequences\n",
        "from tensorflow.keras.datasets import imdb\n",
        "\n",
        "# Load IMDb dataset\n",
        "vocab_size = 10000  # Limit the vocabulary size to 10,000 most frequent words\n",
        "max_length = 200    # Limit the maximum length of reviews to 200 words\n",
        "(X_train, y_train), (X_test, y_test) = imdb.load_data(num_words=vocab_size)\n",
        "\n",
        "# Pad sequences to a fixed length\n",
        "X_train_padded = pad_sequences(X_train, maxlen=max_length, padding='pre', truncating='pre')\n",
        "X_test_padded = pad_sequences(X_test, maxlen=max_length, padding='pre', truncating='pre')\n"
      ],
      "metadata": {
        "id": "_oVy5pa11qUf"
      },
      "execution_count": 46,
      "outputs": []
    },
    {
      "cell_type": "code",
      "source": [
        "# Train and validate the single layer LSTM network\n",
        "history_lstm = model_lstm.fit(X_train_padded, y_train, epochs=5, batch_size=128, validation_data=(X_test_padded, y_test))\n",
        "\n",
        "# Train and validate the Bidirectional LSTM network\n",
        "history_bidirectional_lstm = model_bidirectional_lstm.fit(X_train_padded, y_train, epochs=5, batch_size=128, validation_data=(X_test_padded, y_test))\n",
        "\n",
        "# Train and validate the Convolutional 1D network\n",
        "history_conv1d = model_conv1d.fit(X_train_padded, y_train, epochs=5, batch_size=128, validation_data=(X_test_padded, y_test))\n",
        "\n",
        "# Plot history for each model\n",
        "plot_history(history_lstm, 'Single Layer LSTM')\n",
        "plot_history(history_bidirectional_lstm, 'Bidirectional LSTM')\n",
        "plot_history(history_conv1d, 'Convolutional 1D')\n"
      ],
      "metadata": {
        "colab": {
          "base_uri": "https://localhost:8080/"
        },
        "id": "_56y8gvf1lrf",
        "outputId": "18d803a8-0d38-4b51-9ecd-12c730cc417f"
      },
      "execution_count": null,
      "outputs": [
        {
          "output_type": "stream",
          "name": "stdout",
          "text": [
            "Epoch 1/5\n",
            "196/196 [==============================] - 122s 622ms/step - loss: 0.2352 - accuracy: 0.9072 - val_loss: 0.3070 - val_accuracy: 0.8716\n",
            "Epoch 2/5\n",
            "196/196 [==============================] - 121s 620ms/step - loss: 0.1706 - accuracy: 0.9363 - val_loss: 0.3792 - val_accuracy: 0.8616\n",
            "Epoch 3/5\n",
            "196/196 [==============================] - 122s 621ms/step - loss: 0.1203 - accuracy: 0.9565 - val_loss: 0.4250 - val_accuracy: 0.8581\n",
            "Epoch 4/5\n",
            "129/196 [==================>...........] - ETA: 27s - loss: 0.0985 - accuracy: 0.9652"
          ]
        }
      ]
    },
    {
      "cell_type": "code",
      "source": [
        "import numpy as np\n",
        "from tensorflow.keras.datasets import imdb\n",
        "from tensorflow.keras.preprocessing.sequence import pad_sequences\n",
        "from tensorflow.keras.models import Sequential\n",
        "from tensorflow.keras.layers import Embedding, Flatten, Dense\n",
        "\n",
        "# Load IMDb dataset with the most common 10,000 words\n",
        "vocab_size = 10000\n",
        "(X_train, y_train), (X_test, y_test) = imdb.load_data(num_words=vocab_size)\n",
        "\n",
        "# Preprocess the sequences\n",
        "max_length = 200\n",
        "X_train_padded = pad_sequences(X_train, maxlen=max_length)\n",
        "X_test_padded = pad_sequences(X_test, maxlen=max_length)\n",
        "\n",
        "# Define model architecture\n",
        "embedding_dim = 128\n",
        "model = Sequential()\n",
        "model.add(Embedding(input_dim=vocab_size, output_dim=embedding_dim, input_length=max_length))\n",
        "model.add(Flatten())\n",
        "model.add(Dense(units=64, activation='relu'))\n",
        "model.add(Dense(units=1, activation='sigmoid'))\n",
        "\n",
        "# Compile the model\n",
        "model.compile(optimizer='adam', loss='binary_crossentropy', metrics=['accuracy'])\n",
        "\n",
        "# Train the model\n",
        "history = model.fit(X_train_padded, y_train, epochs=5, batch_size=128, validation_data=(X_test_padded, y_test))\n",
        "\n",
        "# Evaluate the model\n",
        "test_loss, test_accuracy = model.evaluate(X_test_padded, y_test)\n",
        "print(\"Test Loss:\", test_loss)\n",
        "print(\"Test Accuracy:\", test_accuracy)\n"
      ],
      "metadata": {
        "id": "MaMPI4PfSdRB",
        "outputId": "3397fe7a-00fc-4189-c6d4-50b371689e0b",
        "colab": {
          "base_uri": "https://localhost:8080/"
        }
      },
      "execution_count": 3,
      "outputs": [
        {
          "output_type": "stream",
          "name": "stdout",
          "text": [
            "Downloading data from https://storage.googleapis.com/tensorflow/tf-keras-datasets/imdb.npz\n",
            "17464789/17464789 [==============================] - 1s 0us/step\n",
            "Epoch 1/5\n",
            "196/196 [==============================] - 19s 92ms/step - loss: 0.4561 - accuracy: 0.7574 - val_loss: 0.3024 - val_accuracy: 0.8704\n",
            "Epoch 2/5\n",
            "196/196 [==============================] - 22s 111ms/step - loss: 0.1041 - accuracy: 0.9640 - val_loss: 0.3737 - val_accuracy: 0.8520\n",
            "Epoch 3/5\n",
            "196/196 [==============================] - 18s 91ms/step - loss: 0.0127 - accuracy: 0.9985 - val_loss: 0.4075 - val_accuracy: 0.8645\n",
            "Epoch 4/5\n",
            "196/196 [==============================] - 19s 97ms/step - loss: 0.0018 - accuracy: 1.0000 - val_loss: 0.4335 - val_accuracy: 0.8670\n",
            "Epoch 5/5\n",
            "196/196 [==============================] - 18s 90ms/step - loss: 7.8207e-04 - accuracy: 1.0000 - val_loss: 0.4524 - val_accuracy: 0.8667\n",
            "782/782 [==============================] - 6s 7ms/step - loss: 0.4524 - accuracy: 0.8667\n",
            "Test Loss: 0.45242127776145935\n",
            "Test Accuracy: 0.8667200207710266\n"
          ]
        }
      ]
    }
  ]
}